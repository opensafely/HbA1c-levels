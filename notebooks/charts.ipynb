{
 "cells": [
  {
   "cell_type": "markdown",
   "metadata": {},
   "source": [
    "# charts.ipynb\n",
    "\n",
    "This notebook generates figures that track the fluctuation in various HbA1c measures during the COVID-19 pandemic."
   ]
  },
  {
   "cell_type": "code",
   "execution_count": 1,
   "metadata": {},
   "outputs": [],
   "source": [
    "import matplotlib.pyplot as plt\n",
    "import numpy as np\n",
    "import pandas as pd\n",
    "import seaborn as sns\n",
    "\n",
    "from glob import glob"
   ]
  },
  {
   "cell_type": "markdown",
   "metadata": {},
   "source": [
    "## Data Import"
   ]
  },
  {
   "cell_type": "code",
   "execution_count": 2,
   "metadata": {},
   "outputs": [],
   "source": [
    "# Read in input files\n",
    "li = []\n",
    "\n",
    "for file in glob('../output/data/input*.csv'):\n",
    "    if file.split('_')[1] not in ['ethnicity.csv']:\n",
    "        df_temp = pd.read_csv(file)\n",
    "        df_temp['date'] = file[21:-4]\n",
    "        df_temp['hba1c_test'] = 1\n",
    "        li.append(df_temp)\n",
    "    \n",
    "df_input = pd.concat(li, axis=0, ignore_index=False).reset_index(drop=True)"
   ]
  },
  {
   "cell_type": "code",
   "execution_count": 3,
   "metadata": {},
   "outputs": [],
   "source": [
    "# Segment the data by diabetes status\n",
    "df_t1dm = df_input.loc[df_input.diabetes_type == 'T1DM']\n",
    "df_t2dm = df_input.loc[df_input.diabetes_type == 'T2DM']"
   ]
  },
  {
   "cell_type": "markdown",
   "metadata": {},
   "source": [
    "## Total Number"
   ]
  },
  {
   "cell_type": "code",
   "execution_count": 18,
   "metadata": {},
   "outputs": [],
   "source": [
    "def create_chart(measure, group, title, df, ax):\n",
    "    \"\"\"Creates formatted scatterplots displaying line of best fit and\n",
    "    correlation coefficients with associated p-values.\n",
    "    \"\"\"\n",
    "    # Create the scatter plot\n",
    "    sns.lineplot(x='date', y=measure, legend=True,\n",
    "                 hue=group, data=df, ax=ax, ci=None)\n",
    "    \n",
    "    # Set title and make axes labels empty\n",
    "    ax.set_title(title)\n",
    "    ax.set_xlabel('')\n",
    "    ax.set_ylabel('')"
   ]
  },
  {
   "cell_type": "code",
   "execution_count": 19,
   "metadata": {},
   "outputs": [],
   "source": [
    "# Variables by which to subset\n",
    "subset_vars = ['date','hba1c_test',\n",
    "               'hba1c_gt_48','hba1c_gt_58',\n",
    "               'hba1c_gt_64','hba1c_gt_75']"
   ]
  },
  {
   "cell_type": "code",
   "execution_count": 29,
   "metadata": {},
   "outputs": [],
   "source": [
    "# Monthly total\n",
    "df_total = df_input[subset_vars].groupby('date').sum().reset_index()\n",
    "df_total_t1dm = df_t1dm[subset_vars].groupby('date').sum().reset_index()\n",
    "df_total_t2dm = df_t2dm[subset_vars].groupby('date').sum().reset_index()"
   ]
  },
  {
   "cell_type": "code",
   "execution_count": 28,
   "metadata": {},
   "outputs": [],
   "source": [
    "# Group by demographics \n",
    "def sum_by_group(group):\n",
    "    sum_input = df_input[[group] + subset_vars].groupby(['date', group]).sum().reset_index()\n",
    "    sum_t1dm = df_t1dm[[group] + subset_vars].groupby(['date', group]).sum().reset_index()\n",
    "    sum_t2dm = df_t2dm[[group] + subset_vars].groupby(['date', group]).sum().reset_index()\n",
    "    return sum_input, sum_t1dm, sum_t2dm"
   ]
  },
  {
   "cell_type": "code",
   "execution_count": 30,
   "metadata": {},
   "outputs": [],
   "source": [
    "df_age, df_age_t1dm, df_age_t2dm = sum_by_group('age_group')\n",
    "df_sex, df_sex_t1dm, df_sex_t2dm = sum_by_group('sex')\n",
    "df_eth, df_eth_t1dm, df_eth_t2dm = sum_by_group('ethnicity')\n",
    "df_reg, df_reg_t1dm, df_reg_t2dm = sum_by_group('region')\n",
    "df_imd, df_imd_t1dm, df_imd_t2dm = sum_by_group('imd')\n",
    "df_ld, df_ld_t1dm, df_ld_t2dm = sum_by_group('learning_disability')\n",
    "df_mi, df_mi_t1dm, df_mi_t2dm = sum_by_group('mental_illness')"
   ]
  },
  {
   "cell_type": "code",
   "execution_count": 34,
   "metadata": {},
   "outputs": [
    {
     "data": {
      "text/plain": [
       "<matplotlib.collections.PolyCollection at 0x7fa42951e7c0>"
      ]
     },
     "execution_count": 34,
     "metadata": {},
     "output_type": "execute_result"
    },
    {
     "data": {
      "image/png": "[encoded data removed]",
      "text/plain": [
       "<Figure size 432x288 with 1 Axes>"
      ]
     },
     "metadata": {
      "needs_background": "light"
     },
     "output_type": "display_data"
    }
   ],
   "source": [
    "fig, ax = plt.subplots()\n",
    "\n",
    "ax.plot(df_total.date, df_total.hba1c_test, lw=2)\n",
    "ax.fill_between(df_total.date, df_total.hba1c_gt_48.min(), \n",
    "                df_total.hba1c_gt_48, facecolor='blue', alpha=0.4)\n",
    "ax.fill_between(df_total.date, df_total.hba1c_gt_58.min(), \n",
    "                df_total.hba1c_gt_58, facecolor='blue', alpha=0.6)\n",
    "ax.fill_between(df_total.date, df_total.hba1c_gt_64.min(), \n",
    "                df_total.hba1c_gt_64, facecolor='blue', alpha=0.8)\n",
    "ax.fill_between(df_total.date, df_total.hba1c_gt_75.min(), \n",
    "                df_total.hba1c_gt_75, facecolor='blue', alpha=1)"
   ]
  },
  {
   "cell_type": "code",
   "execution_count": null,
   "metadata": {},
   "outputs": [],
   "source": []
  }
 ],
 "metadata": {
  "kernelspec": {
   "display_name": "Python 3",
   "language": "python",
   "name": "python3"
  },
  "language_info": {
   "codemirror_mode": {
    "name": "ipython",
    "version": 3
   },
   "file_extension": ".py",
   "mimetype": "text/x-python",
   "name": "python",
   "nbconvert_exporter": "python",
   "pygments_lexer": "ipython3",
   "version": "3.8.5"
  }
 },
 "nbformat": 4,
 "nbformat_minor": 4
}
