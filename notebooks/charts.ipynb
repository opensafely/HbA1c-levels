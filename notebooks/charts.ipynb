{
 "cells": [
  {
   "cell_type": "markdown",
   "metadata": {},
   "source": [
    "# charts.ipynb\n",
    "\n",
    "This notebook generates figures that track the fluctuation in various HbA1c measures during the COVID-19 pandemic."
   ]
  },
  {
   "cell_type": "code",
   "execution_count": 1,
   "metadata": {},
   "outputs": [],
   "source": [
    "import matplotlib.pyplot as plt\n",
    "import numpy as np\n",
    "import pandas as pd\n",
    "import seaborn as sns\n",
    "\n",
    "from glob import glob"
   ]
  },
  {
   "cell_type": "markdown",
   "metadata": {},
   "source": [
    "## Data Import"
   ]
  },
  {
   "cell_type": "code",
   "execution_count": 2,
   "metadata": {},
   "outputs": [],
   "source": [
    "# Read in input files\n",
    "li = []\n",
    "\n",
    "for file in glob('../output/data/input*.csv'):\n",
    "    if file.split('_')[1] not in ['ethnicity.csv']:\n",
    "        df_temp = pd.read_csv(file)\n",
    "        df_temp['date'] = file[21:-4]\n",
    "        df_temp['hba1c_test'] = 1\n",
    "        li.append(df_temp)\n",
    "    \n",
    "df_input = pd.concat(li, axis=0, ignore_index=False).reset_index(drop=True)"
   ]
  },
  {
   "cell_type": "code",
   "execution_count": 3,
   "metadata": {},
   "outputs": [],
   "source": [
    "# Segment the data by diabetes status\n",
    "df_t1dm = df_input.loc[df_input.diabetes_type == 'T1DM']\n",
    "df_t2dm = df_input.loc[df_input.diabetes_type == 'T2DM']"
   ]
  },
  {
   "cell_type": "markdown",
   "metadata": {},
   "source": [
    "## Total Number"
   ]
  },
  {
   "cell_type": "code",
   "execution_count": 4,
   "metadata": {},
   "outputs": [],
   "source": [
    "def create_chart(measure, group, title, df, ax):\n",
    "    \"\"\"Creates formatted scatterplots displaying line of best fit and\n",
    "    correlation coefficients with associated p-values.\n",
    "    \"\"\"\n",
    "    # Create the scatter plot\n",
    "    sns.lineplot(x='date', y=measure,\n",
    "                 hue=group, data=df, ax=ax, ci=None)\n",
    "    \n",
    "    # Set title and make axes labels empty\n",
    "    ax.set_title(title)\n",
    "    ax.set_xlabel('')\n",
    "    ax.set_ylabel('')"
   ]
  },
  {
   "cell_type": "code",
   "execution_count": 5,
   "metadata": {},
   "outputs": [],
   "source": [
    "# Variables by which to subset\n",
    "subset_vars = ['date','hba1c_test',\n",
    "               'hba1c_gt_48','hba1c_gt_58',\n",
    "               'hba1c_gt_64','hba1c_gt_75']"
   ]
  },
  {
   "cell_type": "code",
   "execution_count": 6,
   "metadata": {},
   "outputs": [],
   "source": [
    "# Monthly total\n",
    "df_total = df_input[subset_vars].groupby('date').sum().reset_index()\n",
    "df_total_t1dm = df_t1dm[subset_vars].groupby('date').sum().reset_index()\n",
    "df_total_t2dm = df_t2dm[subset_vars].groupby('date').sum().reset_index()"
   ]
  },
  {
   "cell_type": "code",
   "execution_count": 7,
   "metadata": {},
   "outputs": [],
   "source": [
    "# Group by demographics \n",
    "def sum_by_group(group):\n",
    "    sum_input = df_input[[group] + subset_vars].groupby(['date', group]).sum().reset_index()\n",
    "    sum_t1dm = df_t1dm[[group] + subset_vars].groupby(['date', group]).sum().reset_index()\n",
    "    sum_t2dm = df_t2dm[[group] + subset_vars].groupby(['date', group]).sum().reset_index()\n",
    "    return sum_input, sum_t1dm, sum_t2dm"
   ]
  },
  {
   "cell_type": "code",
   "execution_count": 8,
   "metadata": {},
   "outputs": [],
   "source": [
    "df_age, df_age_t1dm, df_age_t2dm = sum_by_group('age_group')\n",
    "df_sex, df_sex_t1dm, df_sex_t2dm = sum_by_group('sex')\n",
    "df_eth, df_eth_t1dm, df_eth_t2dm = sum_by_group('ethnicity')\n",
    "df_reg, df_reg_t1dm, df_reg_t2dm = sum_by_group('region')\n",
    "df_imd, df_imd_t1dm, df_imd_t2dm = sum_by_group('imd')\n",
    "df_ld, df_ld_t1dm, df_ld_t2dm = sum_by_group('learning_disability')\n",
    "df_mi, df_mi_t1dm, df_mi_t2dm = sum_by_group('mental_illness')"
   ]
  },
  {
   "cell_type": "code",
   "execution_count": 9,
   "metadata": {},
   "outputs": [],
   "source": [
    "# Functions to generate charts\n",
    "def create_chart(title, df, ax):\n",
    "    \"\"\"Creates formatted scatterplots displaying line of best fit and\n",
    "    correlation coefficients with associated p-values.\n",
    "    \"\"\"\n",
    "    # Create the scatter plot\n",
    "    sns.lineplot(x='date', y='hba1c_test', \n",
    "                 data=df, ax=ax)\n",
    "    \n",
    "    # Set title and make axes labels empty\n",
    "    ax.fill_between(df.date, df.hba1c_gt_48.min(), \n",
    "                df.hba1c_gt_48, facecolor='blue', alpha=0.2)\n",
    "    ax.fill_between(df.date, df.hba1c_gt_58.min(), \n",
    "                    df.hba1c_gt_58, facecolor='blue', alpha=0.4)\n",
    "    ax.fill_between(df.date, df.hba1c_gt_64.min(), \n",
    "                    df.hba1c_gt_64, facecolor='blue', alpha=0.7)\n",
    "    ax.fill_between(df.date, df.hba1c_gt_75.min(), \n",
    "                    df.hba1c_gt_75, facecolor='blue', alpha=1)\n",
    "    ax.set_title(title)\n",
    "    ax.set_xlabel('')\n",
    "    ax.set_ylabel('')\n",
    "\n",
    "def create_subplot(measure, group, title, df, ax):\n",
    "    \"\"\"Creates formatted scatterplots displaying line of best fit and\n",
    "    correlation coefficients with associated p-values.\n",
    "    \"\"\"\n",
    "    # Create the scatter plot\n",
    "    sns.lineplot(x='date', y=measure,\n",
    "                 hue=group, data=df, ax=ax)\n",
    "    \n",
    "    # Set title and make axes labels empty\n",
    "    ax.set_title(title)\n",
    "    ax.set_xlabel('')\n",
    "    ax.set_ylabel('')"
   ]
  },
  {
   "cell_type": "code",
   "execution_count": null,
   "metadata": {},
   "outputs": [],
   "source": [
    "# Total number\n",
    "fig, axes = plt.subplots(2,2, figsize=(18, 14))\n",
    "fig.delaxes(ax=axes[1,1])\n",
    "create_chart('No Diabetes', df_input, axes[0,0])\n",
    "create_chart('Type 1 Diabetes', df_t1dm, axes[0,1])\n",
    "create_chart('Type 2 Diabetes', df_t2dm, axes[1,0])\n",
    "fig.autofmt_xdate(rotation=65)\n",
    "axes[0,1].xaxis.set_tick_params(which='both', labelbottom=True, labeltop=False, rotation=65)\n",
    "plt.show()"
   ]
  },
  {
   "cell_type": "code",
   "execution_count": null,
   "metadata": {},
   "outputs": [],
   "source": [
    "# Total number by threshold\n",
    "def create_plotgrid(measure, df_age_in, df_sex_in, df_eth_in, \n",
    "                   df_reg_in, df_imd_in, df_ld_in, df_mi_in,\n",
    "                   ylabel):\n",
    "    fig2, axes2 = plt.subplots(4, 2, figsize=(16, 16), sharex=True, sharey=True)\n",
    "    fig2.delaxes(ax=axes2[3,1])\n",
    "\n",
    "    create_subplot(measure, 'age_group', 'Age Group', \n",
    "                   df_age_in.loc[df_age_in.age_group != 'missing'], axes2[0,0])\n",
    "    create_subplot(measure, 'sex', 'Sex', \n",
    "                   df_sex_in.loc[df_sex_in.sex.isin(['F','M'])], axes2[0,1])\n",
    "    create_subplot(measure, 'ethnicity', 'Ethnicity', \n",
    "                   df_eth_in, axes2[1,0])\n",
    "    create_subplot(measure, 'region', 'Region', \n",
    "                   df_reg_in, axes2[1,1])\n",
    "    create_subplot(measure, 'imd', 'IMD', \n",
    "                   df_imd_in, axes2[2,0])\n",
    "    create_subplot(measure, 'learning_disability', 'Learning Disability', \n",
    "                   df_ld_in, axes2[2,1])\n",
    "    create_subplot(measure, 'mental_illness', 'Mental Illness', \n",
    "                   df_mi_in, axes2[3,0])\n",
    "\n",
    "    # Set axes labels\n",
    "    plt.setp(axes2[-1, :],\n",
    "             xlabel='Date')\n",
    "    plt.setp(axes2[:, 0],\n",
    "             ylabel=ylabel)\n",
    "    fig2.autofmt_xdate(rotation=65)\n",
    "    fig2.subplots_adjust(hspace=0.1)\n",
    "    fig2.subplots_adjust(wspace=0)\n",
    "    fig2.tight_layout()\n",
    "    axes2[2,1].xaxis.set_tick_params(which='both', labelbottom=True, labeltop=False, rotation=65)\n",
    "    plt.show()"
   ]
  },
  {
   "cell_type": "markdown",
   "metadata": {},
   "source": [
    "### By Demographics"
   ]
  },
  {
   "cell_type": "code",
   "execution_count": null,
   "metadata": {},
   "outputs": [],
   "source": [
    "# No diabetes\n",
    "create_plotgrid('hba1c_test',df_age, df_sex, df_eth,\n",
    "                df_reg, df_imd, df_ld, df_mi, 'Total Number of Tests')"
   ]
  },
  {
   "cell_type": "code",
   "execution_count": null,
   "metadata": {},
   "outputs": [],
   "source": [
    "# T1DM\n",
    "create_plotgrid('hba1c_test',df_age_t1dm, df_sex_t1dm, df_eth_t1dm,\n",
    "                df_reg_t1dm, df_imd_t1dm, df_ld_t1dm, df_mi_t1dm, 'Total Number of Tests')"
   ]
  },
  {
   "cell_type": "code",
   "execution_count": null,
   "metadata": {},
   "outputs": [],
   "source": [
    "# T2DM\n",
    "create_plotgrid('hba1c_test',df_age_t2dm, df_sex_t2dm, df_eth_t2dm,\n",
    "                df_reg_t2dm, df_imd_t2dm, df_ld_t2dm, df_mi_t2dm, 'Total Number of Tests')"
   ]
  },
  {
   "cell_type": "markdown",
   "metadata": {},
   "source": [
    "## Tests by Threshold for Those with T2DM"
   ]
  },
  {
   "cell_type": "code",
   "execution_count": null,
   "metadata": {},
   "outputs": [],
   "source": [
    "# > 48\n",
    "create_plotgrid('hba1c_gt_48',df_age_t2dm, df_sex_t2dm, df_eth_t2dm,\n",
    "                df_reg_t2dm, df_imd_t2dm, df_ld_t2dm, df_mi_t2dm, 'Number of Tests (> 48 mmol/mol)')"
   ]
  },
  {
   "cell_type": "code",
   "execution_count": null,
   "metadata": {},
   "outputs": [],
   "source": [
    "# > 58\n",
    "create_plotgrid('hba1c_gt_58',df_age_t2dm, df_sex_t2dm, df_eth_t2dm,\n",
    "                df_reg_t2dm, df_imd_t2dm, df_ld_t2dm, df_mi_t2dm, 'Number of Tests (> 58 mmol/mol)')"
   ]
  },
  {
   "cell_type": "code",
   "execution_count": null,
   "metadata": {},
   "outputs": [],
   "source": [
    "# > 64\n",
    "create_plotgrid('hba1c_gt_64',df_age_t2dm, df_sex_t2dm, df_eth_t2dm,\n",
    "                df_reg_t2dm, df_imd_t2dm, df_ld_t2dm, df_mi_t2dm, 'Number of Tests (> 64 mmol/mol)')"
   ]
  },
  {
   "cell_type": "code",
   "execution_count": null,
   "metadata": {},
   "outputs": [],
   "source": [
    "# > 75\n",
    "create_plotgrid('hba1c_gt_75',df_age_t2dm, df_sex_t2dm, df_eth_t2dm,\n",
    "                df_reg_t2dm, df_imd_t2dm, df_ld_t2dm, df_mi_t2dm, 'Number of Tests (> 75 mmol/mol)')"
   ]
  },
  {
   "cell_type": "code",
   "execution_count": null,
   "metadata": {},
   "outputs": [],
   "source": []
  }
 ],
 "metadata": {
  "kernelspec": {
   "display_name": "Python 3",
   "language": "python",
   "name": "python3"
  },
  "language_info": {
   "codemirror_mode": {
    "name": "ipython",
    "version": 3
   },
   "file_extension": ".py",
   "mimetype": "text/x-python",
   "name": "python",
   "nbconvert_exporter": "python",
   "pygments_lexer": "ipython3",
   "version": "3.8.5"
  }
 },
 "nbformat": 4,
 "nbformat_minor": 4
}
