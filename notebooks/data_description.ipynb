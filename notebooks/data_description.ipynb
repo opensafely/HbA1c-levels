{
 "cells": [
  {
   "cell_type": "markdown",
   "metadata": {},
   "source": [
    "# data_description.ipynb\n",
    "This notebook provides some basic information about the analysed population such as the number of patients who had HbA1c tests within the timeframe of interest (Jan 2019 to Jun 2021), breakdown by diabetes status, and distribution of HbA1c values."
   ]
  },
  {
   "cell_type": "code",
   "execution_count": 1,
   "metadata": {},
   "outputs": [],
   "source": [
    "import matplotlib.pyplot as plt\n",
    "import numpy as np\n",
    "import pandas as pd\n",
    "import seaborn as sns\n",
    "\n",
    "from glob import glob"
   ]
  },
  {
   "cell_type": "markdown",
   "metadata": {},
   "source": [
    "## Data Import"
   ]
  },
  {
   "cell_type": "code",
   "execution_count": 2,
   "metadata": {},
   "outputs": [],
   "source": [
    "# Read in input files\n",
    "li = []\n",
    "\n",
    "for file in glob('../output/data/input*.csv'):\n",
    "    if file.split('_')[1] not in ['ethnicity.csv']:\n",
    "        df_temp = pd.read_csv(file)\n",
    "        df_temp['date'] = file[21:-4]\n",
    "        li.append(df_temp)\n",
    "    \n",
    "df_input = pd.concat(li, axis=0, ignore_index=False).reset_index(drop=True)"
   ]
  },
  {
   "cell_type": "code",
   "execution_count": 3,
   "metadata": {},
   "outputs": [],
   "source": [
    "# Segment the data by diabetes status\n",
    "df_t1dm = df_input.loc[df_input.diabetes_type == 'T1DM']\n",
    "df_t2dm = df_input.loc[df_input.diabetes_type == 'T2DM']"
   ]
  },
  {
   "cell_type": "code",
   "execution_count": 4,
   "metadata": {},
   "outputs": [],
   "source": [
    "# Subset by thresholds\n",
    "def thresholds(limit):\n",
    "    return df_t2dm.loc[df_t2dm.hba1c_mmol_per_mol > limit]"
   ]
  },
  {
   "cell_type": "code",
   "execution_count": 5,
   "metadata": {},
   "outputs": [],
   "source": [
    "# Segment the data by threshold\n",
    "df_gt48 = thresholds(48)\n",
    "df_gt58 = thresholds(58)\n",
    "df_gt64 = thresholds(64)\n",
    "df_gt75 = thresholds(75)"
   ]
  },
  {
   "cell_type": "markdown",
   "metadata": {},
   "source": [
    "## Distribution of HbA1c"
   ]
  },
  {
   "cell_type": "code",
   "execution_count": 6,
   "metadata": {},
   "outputs": [],
   "source": [
    "# Display distribution\n",
    "def show_hist(df_in, title):\n",
    "    print(title)\n",
    "    plt.hist(df_in.hba1c_mmol_per_mol, bins = 20)\n",
    "    plt.show()"
   ]
  },
  {
   "cell_type": "code",
   "execution_count": 7,
   "metadata": {},
   "outputs": [
    {
     "name": "stdout",
     "output_type": "stream",
     "text": [
      "All Patients\n"
     ]
    },
    {
     "data": {
      "image/png": "[encoded data removed]",
      "text/plain": [
       "<Figure size 432x288 with 1 Axes>"
      ]
     },
     "metadata": {
      "needs_background": "light"
     },
     "output_type": "display_data"
    },
    {
     "name": "stdout",
     "output_type": "stream",
     "text": [
      "Patients with T2DM & HbA1c > 48\n"
     ]
    },
    {
     "data": {
      "image/png": "[encoded data removed]",
      "text/plain": [
       "<Figure size 432x288 with 1 Axes>"
      ]
     },
     "metadata": {
      "needs_background": "light"
     },
     "output_type": "display_data"
    },
    {
     "name": "stdout",
     "output_type": "stream",
     "text": [
      "Patients with T2DM & HbA1c > 58\n"
     ]
    },
    {
     "data": {
      "image/png": "[encoded data removed]",
      "text/plain": [
       "<Figure size 432x288 with 1 Axes>"
      ]
     },
     "metadata": {
      "needs_background": "light"
     },
     "output_type": "display_data"
    },
    {
     "name": "stdout",
     "output_type": "stream",
     "text": [
      "Patients with T2DM & HbA1c > 64\n"
     ]
    },
    {
     "data": {
      "image/png": "[encoded data removed]",
      "text/plain": [
       "<Figure size 432x288 with 1 Axes>"
      ]
     },
     "metadata": {
      "needs_background": "light"
     },
     "output_type": "display_data"
    },
    {
     "name": "stdout",
     "output_type": "stream",
     "text": [
      "Patients with T2DM & HbA1c > 75\n"
     ]
    },
    {
     "data": {
      "image/png": "[encoded data removed]",
      "text/plain": [
       "<Figure size 432x288 with 1 Axes>"
      ]
     },
     "metadata": {
      "needs_background": "light"
     },
     "output_type": "display_data"
    }
   ],
   "source": [
    "# Full distribution\n",
    "show_hist(df_input, \"All Patients\")\n",
    "\n",
    "# >48\n",
    "show_hist(df_gt48, \"Patients with T2DM & HbA1c > 48\")\n",
    "\n",
    "# >58\n",
    "show_hist(df_gt58, \"Patients with T2DM & HbA1c > 58\")\n",
    "\n",
    "# >64\n",
    "show_hist(df_gt64, \"Patients with T2DM & HbA1c > 64\")\n",
    "\n",
    "# >75\n",
    "show_hist(df_gt75, \"Patients with T2DM & HbA1c > 75\")"
   ]
  },
  {
   "cell_type": "markdown",
   "metadata": {},
   "source": [
    "## Descriptive Statistics"
   ]
  },
  {
   "cell_type": "code",
   "execution_count": 8,
   "metadata": {},
   "outputs": [],
   "source": [
    "def unique_pat(df_in):\n",
    "    return len(df_in.patient_id.unique())"
   ]
  },
  {
   "cell_type": "code",
   "execution_count": 9,
   "metadata": {},
   "outputs": [
    {
     "name": "stdout",
     "output_type": "stream",
     "text": [
      "Total patients: 95703\n",
      "T1DM patients: 8728\n",
      "T2DM patients: 45562\n"
     ]
    }
   ],
   "source": [
    "# Total number of patients who were given an HbA1c test between Jan 2019 and Jun 2021\n",
    "num_total = unique_pat(df_input)\n",
    "\n",
    "# T1DM patients\n",
    "num_t1dm = unique_pat(df_t1dm)\n",
    "\n",
    "# T2DM patients\n",
    "num_t2dm = unique_pat(df_t2dm)\n",
    "\n",
    "print(\"Total patients: {}\\nT1DM patients: {}\\nT2DM patients: {}\".format(num_total, num_t1dm, num_t2dm))"
   ]
  },
  {
   "cell_type": "code",
   "execution_count": 10,
   "metadata": {},
   "outputs": [
    {
     "name": "stdout",
     "output_type": "stream",
     "text": [
      "T2DM & HbA1c > 48: 17771\n",
      "T2DM & HbA1c > 58: 9785\n",
      "T2DM & HbA1c > 64: 6326\n",
      "T2DM & HbA1c > 75: 2296\n"
     ]
    }
   ],
   "source": [
    "# Segment T2DM patients by thresholds \n",
    "\n",
    "# >48\n",
    "num_gt48 = unique_pat(df_gt48)\n",
    "\n",
    "# >58 \n",
    "num_gt58 = unique_pat(df_gt58)\n",
    "\n",
    "# >64\n",
    "num_gt64 = unique_pat(df_gt64)\n",
    "\n",
    "# >75\n",
    "num_gt75 = unique_pat(df_gt75)\n",
    "\n",
    "print(\n",
    "    \"T2DM & HbA1c > 48: {}\\nT2DM & HbA1c > 58: {}\\nT2DM & HbA1c > 64: {}\\nT2DM & HbA1c > 75: {}\".format(\n",
    "        num_gt48, num_gt58, num_gt64, num_gt75)\n",
    ")"
   ]
  },
  {
   "cell_type": "code",
   "execution_count": null,
   "metadata": {},
   "outputs": [],
   "source": []
  }
 ],
 "metadata": {
  "kernelspec": {
   "display_name": "Python 3",
   "language": "python",
   "name": "python3"
  },
  "language_info": {
   "codemirror_mode": {
    "name": "ipython",
    "version": 3
   },
   "file_extension": ".py",
   "mimetype": "text/x-python",
   "name": "python",
   "nbconvert_exporter": "python",
   "pygments_lexer": "ipython3",
   "version": "3.8.5"
  }
 },
 "nbformat": 4,
 "nbformat_minor": 4
}
